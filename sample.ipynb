{
 "cells": [
  {
   "metadata": {
    "ExecuteTime": {
     "end_time": "2025-07-16T10:13:10.747585Z",
     "start_time": "2025-07-16T10:13:10.739979Z"
    }
   },
   "cell_type": "code",
   "source": [
    "import pandas as pd\n",
    "import numpy as np\n",
    "import seaborn as sns\n",
    "import matplotlib.pyplot as plt\n",
    "import jdatetime as jd\n"
   ],
   "id": "fbc121e30a2defb3",
   "outputs": [],
   "execution_count": 42
  },
  {
   "metadata": {},
   "cell_type": "markdown",
   "source": [
    "Read data\n",
    "\n",
    "\n",
    "\n",
    "\n"
   ],
   "id": "77a4a8cf634abe6"
  },
  {
   "metadata": {
    "ExecuteTime": {
     "end_time": "2025-07-16T10:13:10.789483Z",
     "start_time": "2025-07-16T10:13:10.778410Z"
    }
   },
   "cell_type": "code",
   "source": [
    "input_data=pd.read_csv(\"weather.csv\", header=4)\n",
    "#input_data\n",
    "#input_data.info()\n",
    "#input_data.describe()"
   ],
   "id": "db8b4bb7b7c69e6e",
   "outputs": [],
   "execution_count": 43
  },
  {
   "metadata": {},
   "cell_type": "markdown",
   "source": "Pre Processing",
   "id": "de2d554eb560c8e2"
  },
  {
   "metadata": {
    "ExecuteTime": {
     "end_time": "2025-07-16T10:13:10.852387Z",
     "start_time": "2025-07-16T10:13:10.818565Z"
    }
   },
   "cell_type": "code",
   "source": [
    "def auto_data_type(df):\n",
    "    for col in df.select_dtypes(include=[np.number]).columns:\n",
    "        min_value = df[col].min()\n",
    "        max_value = df[col].max()\n",
    "\n",
    "        if pd.api.types.is_float_dtype(df[col]):\n",
    "            df[col] = df[col].astype(np.float32)\n",
    "        elif min_value >= 0:\n",
    "            if max_value <= 255:\n",
    "                df[col] = df[col].astype(np.uint8)\n",
    "            elif max_value <= 65535:\n",
    "                df[col] = df[col].astype(np.uint16)\n",
    "            elif max_value <= 4294967295:\n",
    "                df[col] = df[col].astype(np.uint32)\n",
    "            else:\n",
    "                df[col] = df[col].astype(np.uint64)\n",
    "        else:\n",
    "            if -128 <= min_value and max_value <= 127:\n",
    "                df[col] = df[col].astype(np.int8)\n",
    "            elif -32768 <= min_value and max_value <= 32767:\n",
    "                df[col] = df[col].astype(np.int16)\n",
    "            elif -2147483648 <= min_value and max_value <= 2147483647:\n",
    "                df[col] = df[col].astype(np.int32)\n",
    "            else:\n",
    "                df[col] = df[col].astype(np.int64)\n",
    "    return df\n",
    "\n",
    "\n",
    "reduced_data=auto_data_type(input_data)\n",
    "reduced_data[\"sunrise (iso8601)\"] = pd.to_datetime(reduced_data[\"sunrise (iso8601)\"]).dt.strftime(\"%H:%M\")\n",
    "reduced_data[\"sunset (iso8601)\"] = pd.to_datetime(reduced_data[\"sunset (iso8601)\"]).dt.strftime(\"%H:%M\")\n",
    "\n",
    "reduced_data[\"daylight_duration (s)\"]=(reduced_data[\"daylight_duration (s)\"]/60).astype(np.uint16)\n",
    "\n",
    "\n",
    "\n"
   ],
   "id": "41340ac42a3ab7fd",
   "outputs": [],
   "execution_count": 44
  },
  {
   "metadata": {},
   "cell_type": "markdown",
   "source": "Remove out of range data",
   "id": "fa616ee033d15de2"
  },
  {
   "metadata": {
    "ExecuteTime": {
     "end_time": "2025-07-16T10:13:10.906497Z",
     "start_time": "2025-07-16T10:13:10.893880Z"
    }
   },
   "cell_type": "code",
   "source": [
    "numeric_cols = [\n",
    "    \"temperature_2m_mean (°C)\",\n",
    "    \"temperature_2m_max (°C)\",\n",
    "    \"temperature_2m_min (°C)\",\n",
    "    \"precipitation_sum (mm)\",\n",
    "    \"rain_sum (mm)\",\n",
    "    \"snowfall_sum (cm)\"\n",
    "]\n",
    "\n",
    "cols = ['precipitation_sum (mm)', 'rain_sum (mm)', 'snowfall_sum (cm)']\n",
    "\n",
    "for col in cols:\n",
    "    mean = reduced_data[col].mean()\n",
    "    std = reduced_data[col].std()\n",
    "    reduced_data[f\"{col}_is_out_of_range\"] = (reduced_data[col] < mean - 3 * std) | (reduced_data[col] > mean + 3 * std)\n",
    "\n",
    "out_of_range_cols = [\n",
    "    'precipitation_sum (mm)_is_out_of_range',\n",
    "    'rain_sum (mm)_is_out_of_range',\n",
    "    'snowfall_sum (cm)_is_out_of_range'\n",
    "]\n",
    "\n",
    "condition = (\n",
    "    (reduced_data[out_of_range_cols[0]] == False) &\n",
    "    (reduced_data[out_of_range_cols[1]] == False) &\n",
    "    (reduced_data[out_of_range_cols[2]] == False)\n",
    ")\n",
    "\n",
    "cleaned_data = reduced_data[condition]\n",
    "\n",
    "print(f\"Total rows with out_of_ranges: {len(reduced_data) - len(cleaned_data)}\")\n",
    "print(f\"Rows remaining: {len(cleaned_data)}\")\n",
    "\n",
    "\n",
    "\n",
    "# plt.boxplot(\n",
    "#     reduced_data.loc[reduced_data[\"location_id\"]==1, \"precipitation_sum (mm)\"],\n",
    "#     labels=[\"Location 0\"]\n",
    "# )\n",
    "# plt.show()\n"
   ],
   "id": "755c1e6e506dcd44",
   "outputs": [
    {
     "name": "stdout",
     "output_type": "stream",
     "text": [
      "Total rows with out_of_ranges: 37\n",
      "Rows remaining: 1061\n"
     ]
    }
   ],
   "execution_count": 45
  },
  {
   "metadata": {},
   "cell_type": "markdown",
   "source": "Remove duplicated",
   "id": "32ead37d7e1ccadf"
  },
  {
   "metadata": {
    "ExecuteTime": {
     "end_time": "2025-07-16T10:13:10.950648Z",
     "start_time": "2025-07-16T10:13:10.940377Z"
    }
   },
   "cell_type": "code",
   "source": "cleaned_data.duplicated()",
   "id": "bfd32a5b18678f98",
   "outputs": [
    {
     "data": {
      "text/plain": [
       "0       False\n",
       "1       False\n",
       "2       False\n",
       "3       False\n",
       "4       False\n",
       "        ...  \n",
       "1091    False\n",
       "1094    False\n",
       "1095    False\n",
       "1096    False\n",
       "1097    False\n",
       "Length: 1061, dtype: bool"
      ]
     },
     "execution_count": 46,
     "metadata": {},
     "output_type": "execute_result"
    }
   ],
   "execution_count": 46
  },
  {
   "metadata": {
    "ExecuteTime": {
     "end_time": "2025-07-16T10:13:11.001613Z",
     "start_time": "2025-07-16T10:13:10.982685Z"
    }
   },
   "cell_type": "code",
   "source": [
    "reduced_data[\"time\"] = pd.to_datetime(reduced_data[\"time\"])\n",
    "\n",
    "def seasons_jalali(date):\n",
    "    jdate = jd.date.fromgregorian(date=date)\n",
    "    if jdate.month in [1, 2, 3]:\n",
    "        return 'spring'\n",
    "    elif jdate.month in [4, 5, 6]:\n",
    "        return 'summer'\n",
    "    elif jdate.month in [7, 8, 9]:\n",
    "        return 'fall'\n",
    "    else:\n",
    "        return 'winter'\n",
    "\n",
    "seasons = reduced_data[\"time\"].map(seasons_jalali)\n",
    "\n",
    "fall = reduced_data[seasons == 'fall']\n",
    "winter = reduced_data[seasons == 'winter']\n",
    "spring = reduced_data[seasons == 'spring']\n",
    "summer = reduced_data[seasons == 'summer']\n",
    "#print(len(fall),len(winter),len(spring),len(summer))"
   ],
   "id": "2b859e0d927df074",
   "outputs": [],
   "execution_count": 47
  },
  {
   "metadata": {
    "ExecuteTime": {
     "end_time": "2025-07-16T10:13:11.166559Z",
     "start_time": "2025-07-16T10:13:11.159413Z"
    }
   },
   "cell_type": "code",
   "source": "#reduced_data.info()",
   "id": "5e8f5b6e03a9b362",
   "outputs": [],
   "execution_count": 48
  }
 ],
 "metadata": {
  "kernelspec": {
   "display_name": "Python 3",
   "language": "python",
   "name": "python3"
  },
  "language_info": {
   "codemirror_mode": {
    "name": "ipython",
    "version": 2
   },
   "file_extension": ".py",
   "mimetype": "text/x-python",
   "name": "python",
   "nbconvert_exporter": "python",
   "pygments_lexer": "ipython2",
   "version": "2.7.6"
  }
 },
 "nbformat": 4,
 "nbformat_minor": 5
}
