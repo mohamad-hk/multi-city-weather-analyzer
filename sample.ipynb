{
 "cells": [
  {
   "metadata": {
    "ExecuteTime": {
     "end_time": "2025-07-18T19:02:41.472173Z",
     "start_time": "2025-07-18T19:02:41.458097Z"
    }
   },
   "cell_type": "code",
   "source": [
    "import pandas as pd\n",
    "import numpy as np\n",
    "import seaborn as sns\n",
    "import matplotlib.pyplot as plt\n",
    "import jdatetime as jd\n",
    "from tabulate import tabulate\n",
    "from sklearn.preprocessing import MinMaxScaler\n"
   ],
   "id": "fbc121e30a2defb3",
   "outputs": [],
   "execution_count": 25
  },
  {
   "metadata": {},
   "cell_type": "markdown",
   "source": [
    "Read data\n",
    "\n",
    "\n",
    "\n",
    "\n"
   ],
   "id": "77a4a8cf634abe6"
  },
  {
   "metadata": {
    "ExecuteTime": {
     "end_time": "2025-07-18T19:02:41.557489Z",
     "start_time": "2025-07-18T19:02:41.540355Z"
    }
   },
   "cell_type": "code",
   "source": [
    "input_data=pd.read_csv(\"weather.csv\", header=4)\n",
    "#input_data\n",
    "#input_data.info()\n",
    "#input_data.describe()"
   ],
   "id": "db8b4bb7b7c69e6e",
   "outputs": [],
   "execution_count": 26
  },
  {
   "metadata": {},
   "cell_type": "markdown",
   "source": "Pre Processing",
   "id": "de2d554eb560c8e2"
  },
  {
   "metadata": {
    "ExecuteTime": {
     "end_time": "2025-07-18T19:02:41.646806Z",
     "start_time": "2025-07-18T19:02:41.561848Z"
    }
   },
   "cell_type": "code",
   "source": [
    "def auto_data_type(df):\n",
    "    for col in df.select_dtypes(include=[np.number]).columns:\n",
    "        min_value = df[col].min()\n",
    "        max_value = df[col].max()\n",
    "\n",
    "        if pd.api.types.is_float_dtype(df[col]):\n",
    "            df[col] = df[col].astype(np.float32)\n",
    "        elif min_value >= 0:\n",
    "            if max_value <= 255:\n",
    "                df[col] = df[col].astype(np.uint8)\n",
    "            elif max_value <= 65535:\n",
    "                df[col] = df[col].astype(np.uint16)\n",
    "            elif max_value <= 4294967295:\n",
    "                df[col] = df[col].astype(np.uint32)\n",
    "            else:\n",
    "                df[col] = df[col].astype(np.uint64)\n",
    "        else:\n",
    "            if -128 <= min_value and max_value <= 127:\n",
    "                df[col] = df[col].astype(np.int8)\n",
    "            elif -32768 <= min_value and max_value <= 32767:\n",
    "                df[col] = df[col].astype(np.int16)\n",
    "            elif -2147483648 <= min_value and max_value <= 2147483647:\n",
    "                df[col] = df[col].astype(np.int32)\n",
    "            else:\n",
    "                df[col] = df[col].astype(np.int64)\n",
    "    return df\n",
    "\n",
    "\n",
    "reduced_data=auto_data_type(input_data)\n",
    "reduced_data[\"sunrise (iso8601)\"] = pd.to_datetime(reduced_data[\"sunrise (iso8601)\"]).dt.strftime(\"%H:%M\")\n",
    "reduced_data[\"sunset (iso8601)\"] = pd.to_datetime(reduced_data[\"sunset (iso8601)\"]).dt.strftime(\"%H:%M\")\n",
    "\n",
    "reduced_data[\"daylight_duration (s)\"]=(reduced_data[\"daylight_duration (s)\"]/60).astype(np.uint16)\n",
    "\n",
    "\n",
    "\n"
   ],
   "id": "41340ac42a3ab7fd",
   "outputs": [],
   "execution_count": 27
  },
  {
   "metadata": {},
   "cell_type": "markdown",
   "source": "Remove out of range data",
   "id": "fa616ee033d15de2"
  },
  {
   "metadata": {
    "ExecuteTime": {
     "end_time": "2025-07-18T19:02:41.795722Z",
     "start_time": "2025-07-18T19:02:41.779392Z"
    }
   },
   "cell_type": "code",
   "source": [
    "numeric_cols = [\n",
    "    \"temperature_2m_mean (°C)\",\n",
    "    \"temperature_2m_max (°C)\",\n",
    "    \"temperature_2m_min (°C)\",\n",
    "    \"precipitation_sum (mm)\",\n",
    "    \"rain_sum (mm)\",\n",
    "    \"snowfall_sum (cm)\"\n",
    "]\n",
    "\n",
    "cols = ['precipitation_sum (mm)', 'rain_sum (mm)', 'snowfall_sum (cm)']\n",
    "\n",
    "for col in cols:\n",
    "    mean = reduced_data[col].mean()\n",
    "    std = reduced_data[col].std()\n",
    "    reduced_data[f\"{col}_is_out_of_range\"] = (reduced_data[col] < mean - 3 * std) | (reduced_data[col] > mean + 3 * std)\n",
    "\n",
    "out_of_range_cols = [\n",
    "    'precipitation_sum (mm)_is_out_of_range',\n",
    "    'rain_sum (mm)_is_out_of_range',\n",
    "    'snowfall_sum (cm)_is_out_of_range'\n",
    "]\n",
    "\n",
    "condition = (\n",
    "    (reduced_data[out_of_range_cols[0]] == False) &\n",
    "    (reduced_data[out_of_range_cols[1]] == False) &\n",
    "    (reduced_data[out_of_range_cols[2]] == False)\n",
    ")\n",
    "\n",
    "cleaned_data = reduced_data[condition]\n",
    "\n",
    "print(f\"Total rows with out_of_ranges: {len(reduced_data) - len(cleaned_data)}\")\n",
    "print(f\"Rows remaining: {len(cleaned_data)}\")\n",
    "\n",
    "\n",
    "\n",
    "# plt.boxplot(\n",
    "#     reduced_data.loc[reduced_data[\"location_id\"]==1, \"precipitation_sum (mm)\"],\n",
    "#     labels=[\"Location 0\"]\n",
    "# )\n",
    "# plt.show()\n"
   ],
   "id": "755c1e6e506dcd44",
   "outputs": [
    {
     "name": "stdout",
     "output_type": "stream",
     "text": [
      "Total rows with out_of_ranges: 123\n",
      "Rows remaining: 4263\n"
     ]
    }
   ],
   "execution_count": 28
  },
  {
   "metadata": {},
   "cell_type": "markdown",
   "source": "Remove duplicated",
   "id": "32ead37d7e1ccadf"
  },
  {
   "metadata": {
    "ExecuteTime": {
     "end_time": "2025-07-18T19:02:41.880124Z",
     "start_time": "2025-07-18T19:02:41.871117Z"
    }
   },
   "cell_type": "code",
   "source": "#cleaned_data.duplicated()",
   "id": "bfd32a5b18678f98",
   "outputs": [],
   "execution_count": 29
  },
  {
   "metadata": {},
   "cell_type": "markdown",
   "source": "Split data into cities",
   "id": "cec9b1523d68a1f0"
  },
  {
   "metadata": {
    "ExecuteTime": {
     "end_time": "2025-07-18T19:02:41.958891Z",
     "start_time": "2025-07-18T19:02:41.947523Z"
    }
   },
   "cell_type": "code",
   "source": [
    "city_labels = {0: \"Tehran\", 1: \"Qom\", 2: \"Rasht\"}\n",
    "reduced_data[\"city\"] = reduced_data[\"location_id\"].map(city_labels)\n",
    "\n",
    "reduced_data_tehran = reduced_data[reduced_data[\"location_id\"] == 0]\n",
    "reduced_data_qom = reduced_data[reduced_data[\"location_id\"] == 1]\n",
    "reduced_data_rasht = reduced_data[reduced_data[\"location_id\"] == 2]"
   ],
   "id": "5e8f5b6e03a9b362",
   "outputs": [],
   "execution_count": 30
  },
  {
   "metadata": {},
   "cell_type": "markdown",
   "source": "<p style={text-align=right}>با توجه به نمودار های بالا ، شهر قم با میانگین دمای بالا تر، دارای بارش کمتری است. در مقابل، شهر رشت که میانگین دمای آن نسبت به قم و تهران پایین ‌تر است، بارش بیشتری را تجربه می‌کند. این موضوع نشان می ‌دهد که بین عوامل دمای هوا و میزان بارش، رابطه‌ای معکوس وجود دارد. پس می توان استنباط کرد که هرچه دما پایین ‌تر باشد، احتمال بارندگی بیشتر است. </p>",
   "id": "87a16f11e7d5f107"
  },
  {
   "metadata": {
    "ExecuteTime": {
     "end_time": "2025-07-18T19:02:42.160554Z",
     "start_time": "2025-07-18T19:02:42.029539Z"
    }
   },
   "cell_type": "code",
   "source": [
    "reduced_data[\"time\"] = pd.to_datetime(reduced_data[\"time\"])\n",
    "\n",
    "def seasons_jalali(date):\n",
    "    jdate = jd.date.fromgregorian(date=date)\n",
    "    if jdate.month in [1, 2, 3]:\n",
    "        return 'spring'\n",
    "    elif jdate.month in [4, 5, 6]:\n",
    "        return 'summer'\n",
    "    elif jdate.month in [7, 8, 9]:\n",
    "        return 'fall'\n",
    "    else:\n",
    "        return 'winter'\n",
    "\n",
    "reduced_data[\"season\"] = reduced_data[\"time\"].map(seasons_jalali)\n",
    "reduced_data[\"time\"] = pd.to_datetime(reduced_data[\"time\"])\n",
    "data[\"time\"] = pd.to_datetime(data[\"time\"])\n",
    "\n",
    "data[\"year\"] = pd.to_datetime(data[\"time\"]).dt.year\n",
    "data[\"season\"] = data[\"time\"].map(seasons_jalali)\n",
    "\n",
    "\n"
   ],
   "id": "8bafb77277be6716",
   "outputs": [],
   "execution_count": 31
  },
  {
   "metadata": {},
   "cell_type": "markdown",
   "source": "Find common precipitation sequence",
   "id": "bfb73c11126b6c02"
  },
  {
   "metadata": {
    "ExecuteTime": {
     "end_time": "2025-07-18T19:02:42.736720Z",
     "start_time": "2025-07-18T19:02:42.220206Z"
    }
   },
   "cell_type": "code",
   "source": [
    "cities = reduced_data[\"city\"].unique().tolist()\n",
    "\n",
    "season_names = {\n",
    "    \"spring\": \"بهار\",\n",
    "    \"summer\": \"تابستان\",\n",
    "    \"fall\": \"پاییز\",\n",
    "    \"winter\": \"زمستان\"\n",
    "}\n",
    "\n",
    "reduced_data[\"time\"] = pd.to_datetime(reduced_data[\"time\"])\n",
    "\n",
    "for season_en, season_fa in season_names.items():\n",
    "    season_data = reduced_data[reduced_data[\"season\"] == season_en]\n",
    "    season_data = season_data[season_data[\"precipitation_sum (mm)\"] > 0]\n",
    "    season_data = season_data.sort_values(\"time\")\n",
    "\n",
    "    events = []\n",
    "\n",
    "    for date in season_data[\"time\"].unique():\n",
    "        daily_data = season_data[season_data[\"time\"] == date]\n",
    "        for city in daily_data[\"city\"].unique():\n",
    "            events.append((date, city))\n",
    "\n",
    "    events.sort()\n",
    "\n",
    "    all_sequences = []\n",
    "    for i in range(len(events)):\n",
    "        visited_cities = [events[i][1]]\n",
    "        for j in range(i + 1, len(events)):\n",
    "            if events[j][1] not in visited_cities:\n",
    "                visited_cities.append(events[j][1])\n",
    "            if len(visited_cities) == 3:\n",
    "                all_sequences.append(tuple(visited_cities))\n",
    "                break\n",
    "\n",
    "    if all_sequences:\n",
    "        sequence_count = {}\n",
    "        for seq in all_sequences:\n",
    "            sequence_count[seq] = sequence_count.get(seq, 0) + 1\n",
    "\n",
    "        sorted_sequences = sorted(sequence_count.items(), key=lambda x: x[1], reverse=True)\n",
    "        most_common = sorted_sequences[0][0]\n",
    "        most_common_str = \" → \".join(most_common)\n",
    "\n",
    "        table_data = []\n",
    "        for seq, count in sorted_sequences:\n",
    "            table_data.append([\" → \".join(seq), count])\n",
    "\n",
    "        table_data.append([\"رایج ترین الگو: \" + most_common_str, sequence_count[most_common]])\n",
    "\n",
    "        print(f\"\\nالگوهای رایج بارش در فصل {season_fa}:\\n\")\n",
    "        print(tabulate(table_data, headers=[\"Sequences\", \"Number of repetitions\"], tablefmt=\"grid\", stralign=\"center\", numalign=\"center\"))\n",
    "    else:\n",
    "        print(f\"\\nدر فصل {season_fa}: الگوی مشخصی یافت نشد\")\n"
   ],
   "id": "193a79c3e87ac359",
   "outputs": [
    {
     "name": "stdout",
     "output_type": "stream",
     "text": [
      "\n",
      "الگوهای رایج بارش در فصل بهار:\n",
      "\n",
      "+--------------------------------------+-------------------------+\n",
      "|              Sequences               |  Number of repetitions  |\n",
      "+======================================+=========================+\n",
      "|         Rasht → Tehran → Qom         |           89            |\n",
      "+--------------------------------------+-------------------------+\n",
      "|         Rasht → Qom → Tehran         |           72            |\n",
      "+--------------------------------------+-------------------------+\n",
      "|         Qom → Rasht → Tehran         |           54            |\n",
      "+--------------------------------------+-------------------------+\n",
      "|         Tehran → Qom → Rasht         |           39            |\n",
      "+--------------------------------------+-------------------------+\n",
      "|         Tehran → Rasht → Qom         |           36            |\n",
      "+--------------------------------------+-------------------------+\n",
      "|         Qom → Tehran → Rasht         |           10            |\n",
      "+--------------------------------------+-------------------------+\n",
      "| رایج ترین الگو: Rasht → Tehran → Qom |           89            |\n",
      "+--------------------------------------+-------------------------+\n",
      "\n",
      "در فصل تابستان: الگوی مشخصی یافت نشد\n",
      "\n",
      "الگوهای رایج بارش در فصل پاییز:\n",
      "\n",
      "+--------------------------------------+-------------------------+\n",
      "|              Sequences               |  Number of repetitions  |\n",
      "+======================================+=========================+\n",
      "|         Rasht → Tehran → Qom         |           141           |\n",
      "+--------------------------------------+-------------------------+\n",
      "|         Rasht → Qom → Tehran         |           66            |\n",
      "+--------------------------------------+-------------------------+\n",
      "|         Qom → Rasht → Tehran         |           54            |\n",
      "+--------------------------------------+-------------------------+\n",
      "|         Tehran → Rasht → Qom         |           48            |\n",
      "+--------------------------------------+-------------------------+\n",
      "|         Tehran → Qom → Rasht         |           38            |\n",
      "+--------------------------------------+-------------------------+\n",
      "|         Qom → Tehran → Rasht         |           12            |\n",
      "+--------------------------------------+-------------------------+\n",
      "| رایج ترین الگو: Rasht → Tehran → Qom |           141           |\n",
      "+--------------------------------------+-------------------------+\n",
      "\n",
      "الگوهای رایج بارش در فصل زمستان:\n",
      "\n",
      "+--------------------------------------+-------------------------+\n",
      "|              Sequences               |  Number of repetitions  |\n",
      "+======================================+=========================+\n",
      "|         Rasht → Tehran → Qom         |           131           |\n",
      "+--------------------------------------+-------------------------+\n",
      "|         Qom → Rasht → Tehran         |           83            |\n",
      "+--------------------------------------+-------------------------+\n",
      "|         Tehran → Qom → Rasht         |           70            |\n",
      "+--------------------------------------+-------------------------+\n",
      "|         Tehran → Rasht → Qom         |           64            |\n",
      "+--------------------------------------+-------------------------+\n",
      "|         Rasht → Qom → Tehran         |           62            |\n",
      "+--------------------------------------+-------------------------+\n",
      "|         Qom → Tehran → Rasht         |           19            |\n",
      "+--------------------------------------+-------------------------+\n",
      "| رایج ترین الگو: Rasht → Tehran → Qom |           131           |\n",
      "+--------------------------------------+-------------------------+\n"
     ]
    }
   ],
   "execution_count": 32
  }
 ],
 "metadata": {
  "kernelspec": {
   "display_name": "Python 3",
   "language": "python",
   "name": "python3"
  },
  "language_info": {
   "codemirror_mode": {
    "name": "ipython",
    "version": 2
   },
   "file_extension": ".py",
   "mimetype": "text/x-python",
   "name": "python",
   "nbconvert_exporter": "python",
   "pygments_lexer": "ipython2",
   "version": "2.7.6"
  }
 },
 "nbformat": 4,
 "nbformat_minor": 5
}
