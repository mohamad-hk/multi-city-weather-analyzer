{
 "cells": [
  {
   "metadata": {
    "ExecuteTime": {
     "end_time": "2025-07-16T07:36:48.549833Z",
     "start_time": "2025-07-16T07:36:48.538232Z"
    }
   },
   "cell_type": "code",
   "source": [
    "import pandas as pd\n",
    "import numpy as np\n",
    "import seaborn as sns\n",
    "import matplotlib.pyplot as plt"
   ],
   "id": "fbc121e30a2defb3",
   "outputs": [],
   "execution_count": 60
  },
  {
   "metadata": {},
   "cell_type": "markdown",
   "source": [
    "Read data\n",
    "\n",
    "\n",
    "\n",
    "\n"
   ],
   "id": "77a4a8cf634abe6"
  },
  {
   "metadata": {
    "ExecuteTime": {
     "end_time": "2025-07-16T07:36:48.579567Z",
     "start_time": "2025-07-16T07:36:48.570139Z"
    }
   },
   "cell_type": "code",
   "source": [
    "input_data=pd.read_csv(\"weather.csv\", header=4)\n",
    "#input_data\n",
    "#input_data.info()\n",
    "#input_data.describe()"
   ],
   "id": "db8b4bb7b7c69e6e",
   "outputs": [],
   "execution_count": 61
  },
  {
   "metadata": {},
   "cell_type": "markdown",
   "source": "Pre Processing",
   "id": "de2d554eb560c8e2"
  },
  {
   "metadata": {
    "ExecuteTime": {
     "end_time": "2025-07-16T07:36:48.622772Z",
     "start_time": "2025-07-16T07:36:48.595122Z"
    }
   },
   "cell_type": "code",
   "source": [
    "def auto_data_type(df):\n",
    "    for col in df.select_dtypes(include=[np.number]).columns:\n",
    "        min_value = df[col].min()\n",
    "        max_value = df[col].max()\n",
    "\n",
    "        if pd.api.types.is_float_dtype(df[col]):\n",
    "            df[col] = df[col].astype(np.float32)\n",
    "        elif min_value >= 0:\n",
    "            if max_value <= 255:\n",
    "                df[col] = df[col].astype(np.uint8)\n",
    "            elif max_value <= 65535:\n",
    "                df[col] = df[col].astype(np.uint16)\n",
    "            elif max_value <= 4294967295:\n",
    "                df[col] = df[col].astype(np.uint32)\n",
    "            else:\n",
    "                df[col] = df[col].astype(np.uint64)\n",
    "        else:\n",
    "            if -128 <= min_value and max_value <= 127:\n",
    "                df[col] = df[col].astype(np.int8)\n",
    "            elif -32768 <= min_value and max_value <= 32767:\n",
    "                df[col] = df[col].astype(np.int16)\n",
    "            elif -2147483648 <= min_value and max_value <= 2147483647:\n",
    "                df[col] = df[col].astype(np.int32)\n",
    "            else:\n",
    "                df[col] = df[col].astype(np.int64)\n",
    "    return df\n",
    "\n",
    "\n",
    "reduced_data=auto_data_type(input_data)\n",
    "reduced_data[\"sunrise (iso8601)\"] = pd.to_datetime(reduced_data[\"sunrise (iso8601)\"]).dt.strftime(\"%H:%M\")\n",
    "reduced_data[\"sunset (iso8601)\"] = pd.to_datetime(reduced_data[\"sunset (iso8601)\"]).dt.strftime(\"%H:%M\")\n",
    "\n",
    "reduced_data[\"daylight_duration (s)\"]=(reduced_data[\"daylight_duration (s)\"]/60).astype(np.uint16)\n",
    "\n",
    "\n",
    "\n",
    "\n",
    "#reduced_data.isnull().sum()\n"
   ],
   "id": "41340ac42a3ab7fd",
   "outputs": [],
   "execution_count": 62
  },
  {
   "metadata": {},
   "cell_type": "markdown",
   "source": "",
   "id": "fa616ee033d15de2"
  }
 ],
 "metadata": {
  "kernelspec": {
   "display_name": "Python 3",
   "language": "python",
   "name": "python3"
  },
  "language_info": {
   "codemirror_mode": {
    "name": "ipython",
    "version": 2
   },
   "file_extension": ".py",
   "mimetype": "text/x-python",
   "name": "python",
   "nbconvert_exporter": "python",
   "pygments_lexer": "ipython2",
   "version": "2.7.6"
  }
 },
 "nbformat": 4,
 "nbformat_minor": 5
}
