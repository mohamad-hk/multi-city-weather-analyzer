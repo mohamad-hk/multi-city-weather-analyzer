{
 "cells": [
  {
   "metadata": {
    "ExecuteTime": {
     "end_time": "2025-07-16T13:27:39.082578Z",
     "start_time": "2025-07-16T13:27:39.073797Z"
    }
   },
   "cell_type": "code",
   "source": [
    "import pandas as pd\n",
    "import numpy as np\n",
    "import seaborn as sns\n",
    "import matplotlib.pyplot as plt\n",
    "import jdatetime as jd\n"
   ],
   "id": "fbc121e30a2defb3",
   "outputs": [],
   "execution_count": 143
  },
  {
   "metadata": {},
   "cell_type": "markdown",
   "source": [
    "Read data\n",
    "\n",
    "\n",
    "\n",
    "\n"
   ],
   "id": "77a4a8cf634abe6"
  },
  {
   "metadata": {
    "ExecuteTime": {
     "end_time": "2025-07-16T13:27:39.160281Z",
     "start_time": "2025-07-16T13:27:39.150605Z"
    }
   },
   "cell_type": "code",
   "source": [
    "input_data=pd.read_csv(\"weather.csv\", header=4)\n",
    "#input_data\n",
    "#input_data.info()\n",
    "#input_data.describe()"
   ],
   "id": "db8b4bb7b7c69e6e",
   "outputs": [],
   "execution_count": 144
  },
  {
   "metadata": {},
   "cell_type": "markdown",
   "source": "Pre Processing",
   "id": "de2d554eb560c8e2"
  },
  {
   "metadata": {
    "ExecuteTime": {
     "end_time": "2025-07-16T13:27:39.195963Z",
     "start_time": "2025-07-16T13:27:39.168891Z"
    }
   },
   "cell_type": "code",
   "source": [
    "def auto_data_type(df):\n",
    "    for col in df.select_dtypes(include=[np.number]).columns:\n",
    "        min_value = df[col].min()\n",
    "        max_value = df[col].max()\n",
    "\n",
    "        if pd.api.types.is_float_dtype(df[col]):\n",
    "            df[col] = df[col].astype(np.float32)\n",
    "        elif min_value >= 0:\n",
    "            if max_value <= 255:\n",
    "                df[col] = df[col].astype(np.uint8)\n",
    "            elif max_value <= 65535:\n",
    "                df[col] = df[col].astype(np.uint16)\n",
    "            elif max_value <= 4294967295:\n",
    "                df[col] = df[col].astype(np.uint32)\n",
    "            else:\n",
    "                df[col] = df[col].astype(np.uint64)\n",
    "        else:\n",
    "            if -128 <= min_value and max_value <= 127:\n",
    "                df[col] = df[col].astype(np.int8)\n",
    "            elif -32768 <= min_value and max_value <= 32767:\n",
    "                df[col] = df[col].astype(np.int16)\n",
    "            elif -2147483648 <= min_value and max_value <= 2147483647:\n",
    "                df[col] = df[col].astype(np.int32)\n",
    "            else:\n",
    "                df[col] = df[col].astype(np.int64)\n",
    "    return df\n",
    "\n",
    "\n",
    "reduced_data=auto_data_type(input_data)\n",
    "reduced_data[\"sunrise (iso8601)\"] = pd.to_datetime(reduced_data[\"sunrise (iso8601)\"]).dt.strftime(\"%H:%M\")\n",
    "reduced_data[\"sunset (iso8601)\"] = pd.to_datetime(reduced_data[\"sunset (iso8601)\"]).dt.strftime(\"%H:%M\")\n",
    "\n",
    "reduced_data[\"daylight_duration (s)\"]=(reduced_data[\"daylight_duration (s)\"]/60).astype(np.uint16)\n",
    "\n",
    "\n",
    "\n"
   ],
   "id": "41340ac42a3ab7fd",
   "outputs": [],
   "execution_count": 145
  },
  {
   "metadata": {},
   "cell_type": "markdown",
   "source": "Remove out of range data",
   "id": "fa616ee033d15de2"
  },
  {
   "metadata": {
    "ExecuteTime": {
     "end_time": "2025-07-16T13:27:39.326069Z",
     "start_time": "2025-07-16T13:27:39.313532Z"
    }
   },
   "cell_type": "code",
   "source": [
    "numeric_cols = [\n",
    "    \"temperature_2m_mean (°C)\",\n",
    "    \"temperature_2m_max (°C)\",\n",
    "    \"temperature_2m_min (°C)\",\n",
    "    \"precipitation_sum (mm)\",\n",
    "    \"rain_sum (mm)\",\n",
    "    \"snowfall_sum (cm)\"\n",
    "]\n",
    "\n",
    "cols = ['precipitation_sum (mm)', 'rain_sum (mm)', 'snowfall_sum (cm)']\n",
    "\n",
    "for col in cols:\n",
    "    mean = reduced_data[col].mean()\n",
    "    std = reduced_data[col].std()\n",
    "    reduced_data[f\"{col}_is_out_of_range\"] = (reduced_data[col] < mean - 3 * std) | (reduced_data[col] > mean + 3 * std)\n",
    "\n",
    "out_of_range_cols = [\n",
    "    'precipitation_sum (mm)_is_out_of_range',\n",
    "    'rain_sum (mm)_is_out_of_range',\n",
    "    'snowfall_sum (cm)_is_out_of_range'\n",
    "]\n",
    "\n",
    "condition = (\n",
    "    (reduced_data[out_of_range_cols[0]] == False) &\n",
    "    (reduced_data[out_of_range_cols[1]] == False) &\n",
    "    (reduced_data[out_of_range_cols[2]] == False)\n",
    ")\n",
    "\n",
    "cleaned_data = reduced_data[condition]\n",
    "\n",
    "print(f\"Total rows with out_of_ranges: {len(reduced_data) - len(cleaned_data)}\")\n",
    "print(f\"Rows remaining: {len(cleaned_data)}\")\n",
    "\n",
    "\n",
    "\n",
    "# plt.boxplot(\n",
    "#     reduced_data.loc[reduced_data[\"location_id\"]==1, \"precipitation_sum (mm)\"],\n",
    "#     labels=[\"Location 0\"]\n",
    "# )\n",
    "# plt.show()\n"
   ],
   "id": "755c1e6e506dcd44",
   "outputs": [
    {
     "name": "stdout",
     "output_type": "stream",
     "text": [
      "Total rows with out_of_ranges: 37\n",
      "Rows remaining: 1061\n"
     ]
    }
   ],
   "execution_count": 146
  },
  {
   "metadata": {},
   "cell_type": "markdown",
   "source": "Remove duplicated",
   "id": "32ead37d7e1ccadf"
  },
  {
   "metadata": {
    "ExecuteTime": {
     "end_time": "2025-07-16T13:27:39.410545Z",
     "start_time": "2025-07-16T13:27:39.404829Z"
    }
   },
   "cell_type": "code",
   "source": "#cleaned_data.duplicated()",
   "id": "bfd32a5b18678f98",
   "outputs": [],
   "execution_count": 147
  },
  {
   "metadata": {},
   "cell_type": "markdown",
   "source": "Split data into cities",
   "id": "cec9b1523d68a1f0"
  },
  {
   "metadata": {
    "ExecuteTime": {
     "end_time": "2025-07-16T13:27:39.491237Z",
     "start_time": "2025-07-16T13:27:39.482461Z"
    }
   },
   "cell_type": "code",
   "source": [
    "city_labels = {0: \"Tehran\", 1: \"Qom\", 2: \"Rasht\"}\n",
    "reduced_data[\"city\"] = reduced_data[\"location_id\"].map(city_labels)\n",
    "\n",
    "reduced_data_tehran = reduced_data[reduced_data[\"location_id\"] == 0]\n",
    "reduced_data_qom = reduced_data[reduced_data[\"location_id\"] == 1]\n",
    "reduced_data_rasht = reduced_data[reduced_data[\"location_id\"] == 2]"
   ],
   "id": "5e8f5b6e03a9b362",
   "outputs": [],
   "execution_count": 148
  },
  {
   "metadata": {},
   "cell_type": "markdown",
   "source": "Finding the influencing factors",
   "id": "c6bd3ba3f72d0dfa"
  },
  {
   "metadata": {
    "ExecuteTime": {
     "end_time": "2025-07-16T13:27:39.772508Z",
     "start_time": "2025-07-16T13:27:39.559945Z"
    }
   },
   "cell_type": "code",
   "source": [
    "plt.figure(figsize=(10, 5))\n",
    "sns.boxplot(data=reduced_data, x=\"city\", y=\"temperature_2m_mean (°C)\")\n",
    "plt.title(\"مقایسه میانگین دما بین شهرها\")\n",
    "plt.grid(True)\n",
    "plt.show()\n",
    "\n",
    "plt.figure(figsize=(10, 5))\n",
    "sns.boxplot(data=reduced_data, x=\"city\", y=\"precipitation_sum (mm)\")\n",
    "plt.title(\"مقایسه بارش بین شهرها\")\n",
    "plt.grid(True)\n",
    "plt.show()"
   ],
   "id": "c99a811d974a3df0",
   "outputs": [
    {
     "data": {
      "text/plain": [
       "<Figure size 1000x500 with 1 Axes>"
      ],
      "image/png": "[encoded data removed]"
     },
     "metadata": {},
     "output_type": "display_data"
    },
    {
     "data": {
      "text/plain": [
       "<Figure size 1000x500 with 1 Axes>"
      ],
      "image/png": "[encoded data removed]"
     },
     "metadata": {},
     "output_type": "display_data"
    }
   ],
   "execution_count": 149
  },
  {
   "metadata": {},
   "cell_type": "markdown",
   "source": "<p style={text-align=right}>با توجه به نمودار های بالا ، شهر قم با میانگین دمای بالا تر، دارای بارش کمتری است. در مقابل، شهر رشت که میانگین دمای آن نسبت به قم و تهران پایین ‌تر است، بارش بیشتری را تجربه می‌کند. این موضوع نشان می ‌دهد که بین عوامل دمای هوا و میزان بارش، رابطه‌ای معکوس وجود دارد. پس می توان استنباط کرد که هرچه دما پایین ‌تر باشد، احتمال بارندگی بیشتر است. </p>",
   "id": "87a16f11e7d5f107",
   "attachments": {
    "7fbb639a-5329-4302-984d-324dc1335272.png": {
     "image/png": "[encoded data removed]"
    },
    "81b6b477-a130-4772-8c94-6cc41d6cd2e7.png": {
     "image/png": "[encoded data removed]"
    }
   }
  },
  {
   "metadata": {
    "ExecuteTime": {
     "end_time": "2025-07-16T13:27:39.845729Z",
     "start_time": "2025-07-16T13:27:39.841533Z"
    }
   },
   "cell_type": "code",
   "source": "",
   "id": "d051e550a186b4aa",
   "outputs": [],
   "execution_count": null
  },
  {
   "metadata": {
    "ExecuteTime": {
     "end_time": "2025-07-16T13:27:39.929689Z",
     "start_time": "2025-07-16T13:27:39.904680Z"
    }
   },
   "cell_type": "code",
   "source": [
    "reduced_data[\"time\"] = pd.to_datetime(reduced_data[\"time\"])\n",
    "\n",
    "def seasons_jalali(date):\n",
    "    jdate = jd.date.fromgregorian(date=date)\n",
    "    if jdate.month in [1, 2, 3]:\n",
    "        return 'spring'\n",
    "    elif jdate.month in [4, 5, 6]:\n",
    "        return 'summer'\n",
    "    elif jdate.month in [7, 8, 9]:\n",
    "        return 'fall'\n",
    "    else:\n",
    "        return 'winter'\n",
    "\n",
    "reduced_data[\"season\"] = reduced_data[\"time\"].map(seasons_jalali)\n",
    "\n",
    "\n",
    "reduced_data[\"time\"] = pd.to_datetime(reduced_data[\"time\"])\n"
   ],
   "id": "8bafb77277be6716",
   "outputs": [],
   "execution_count": 150
  }
 ],
 "metadata": {
  "kernelspec": {
   "display_name": "Python 3",
   "language": "python",
   "name": "python3"
  },
  "language_info": {
   "codemirror_mode": {
    "name": "ipython",
    "version": 2
   },
   "file_extension": ".py",
   "mimetype": "text/x-python",
   "name": "python",
   "nbconvert_exporter": "python",
   "pygments_lexer": "ipython2",
   "version": "2.7.6"
  }
 },
 "nbformat": 4,
 "nbformat_minor": 5
}
